{
 "cells": [
  {
   "cell_type": "markdown",
   "id": "69b958a5",
   "metadata": {},
   "source": [
    "# ARIMA exhausting fitting"
   ]
  },
  {
   "cell_type": "markdown",
   "id": "aded2f48",
   "metadata": {},
   "source": [
    "This file determines the ARIMA order using the pmdarima package."
   ]
  },
  {
   "cell_type": "code",
   "execution_count": null,
   "id": "dc25d842",
   "metadata": {},
   "outputs": [],
   "source": [
    "import os\n",
    "import sys\n",
    "\n",
    "import pandas as pd\n",
    "import numpy as np\n",
    "import math\n",
    "\n",
    "import statsmodels.formula.api as smf\n",
    "import statsmodels.tsa.api as smt\n",
    "import statsmodels.api as sm\n",
    "import scipy.stats as scs\n",
    "import statsmodels.stats as sms\n",
    "from statsmodels.tsa.arima.model import ARIMA\n",
    "\n",
    "import pmdarima as pm\n",
    "\n",
    "import random as rnd\n",
    "\n",
    "import matplotlib.pyplot as plt\n",
    "import matplotlib as mpl"
   ]
  },
  {
   "cell_type": "code",
   "execution_count": null,
   "id": "b7358cc1",
   "metadata": {},
   "outputs": [],
   "source": [
    "data = pd.read_csv('EURUSD_2019_01_03-without ID.csv', header=0, index_col=None, parse_dates=['Datetime'])\n",
    "data = data['Middle']\n",
    "data_lenght = len(data.index)\n",
    "lrets = np.log(data/data.shift(1)).fillna(0)\n",
    "\n",
    "results = pd.DataFrame(columns=['Time frame', 'Order', 'Number of orders', 'Number of valid fits'])\n",
    "df_counter = 0\n",
    "\n",
    "times = dict({30:3635, 60:7270, 720:87240})\n",
    "\n",
    "for t in times:\n",
    "    for i in range(0,10):\n",
    "        rnd_index = rnd.randint(1, data_lenght - times[t]) # 1, because lrets[0] is always 0\n",
    "        lrets_part = lrets[rnd_index : rnd_index+times[t]]\n",
    "        \n",
    "        mdl = pm.auto_arima(y=lrets_part, \n",
    "                     start_p=2, \n",
    "                     d=None, \n",
    "                     start_q=2, \n",
    "                     max_p=5,\n",
    "                     max_d=2, \n",
    "                     max_q=5, \n",
    "                     max_order=12,\n",
    "                     stepwise=True, \n",
    "                     n_jobs=1,    \n",
    "                     seasonal=False, \n",
    "                     stationary=False,\n",
    "                     # most likely no need to change, just to know that there are such a possibilities to change\n",
    "                     information_criterion='aic', \n",
    "                     alpha=0.05, test='kpss', \n",
    "                     seasonal_test='ocsb',                                     \n",
    "                     method='lbfgs', \n",
    "                     random=False,  \n",
    "                     n_fits=10, \n",
    "                     return_valid_fits=False,                     \n",
    "                     with_intercept='auto')\n",
    "\n",
    "        order = mdl.get_params().get('order')\n",
    "        ljung = sms.diagnostic.acorr_ljungbox(mdl.resid, lags=[25], boxpierce=False)     \n",
    "        \n",
    "        # writing the results\n",
    "        index = results[(results['Order'] == order) & (results['Time frame'] == t)].index\n",
    "        if len(index) == 0:\n",
    "            if ljung['lb_pvalue'].iloc[0] < 0.05:\n",
    "                results.loc[df_counter] = [t, order, 1, 0]                \n",
    "            else:\n",
    "                results.loc[df_counter] = [t, order, 1, 1]            \n",
    "            df_counter += 1\n",
    "        else:\n",
    "            results['Number of orders'].loc[index] = results['Number of orders'].loc[index] + 1\n",
    "            if ljung['lb_pvalue'].iloc[0] > 0.05:                \n",
    "                results['Number of valid fits'].loc[index] = results['Number of valid fits'].loc[index] + 1\n",
    "        \n",
    "results.to_csv('arima_exhFit_table.csv')"
   ]
  }
 ],
 "metadata": {
  "kernelspec": {
   "display_name": "Python 3 (ipykernel)",
   "language": "python",
   "name": "python3"
  },
  "language_info": {
   "codemirror_mode": {
    "name": "ipython",
    "version": 3
   },
   "file_extension": ".py",
   "mimetype": "text/x-python",
   "name": "python",
   "nbconvert_exporter": "python",
   "pygments_lexer": "ipython3",
   "version": "3.9.13"
  }
 },
 "nbformat": 4,
 "nbformat_minor": 5
}
