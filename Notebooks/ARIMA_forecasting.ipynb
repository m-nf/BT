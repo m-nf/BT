{
 "cells": [
  {
   "cell_type": "markdown",
   "id": "fac72e61",
   "metadata": {},
   "source": [
    "# ARIMA forecasting"
   ]
  },
  {
   "cell_type": "markdown",
   "id": "236e6aa8",
   "metadata": {},
   "source": [
    "This file contains ARIMA forecasting.\n",
    "The practical foundation of this code is based on:\n",
    "https://github.com/Auquan/Tutorials/blob/master/Time%20Series%20Analysis%20-%202.ipynb,\n",
    "https://github.com/Auquan/Tutorials/blob/master/Time%20Series%20Analysis%20-%203.ipynb."
   ]
  },
  {
   "cell_type": "code",
   "execution_count": 1,
   "id": "b58d2c75",
   "metadata": {},
   "outputs": [],
   "source": [
    "import os\n",
    "import sys\n",
    "\n",
    "import pandas as pd\n",
    "import numpy as np\n",
    "import time\n",
    "\n",
    "import statsmodels.formula.api as smf\n",
    "import statsmodels.tsa.api as smt\n",
    "import statsmodels.api as sm\n",
    "import scipy.stats as scs\n",
    "import statsmodels.stats as sms\n",
    "from statsmodels.tsa.arima.model import ARIMA\n",
    "\n",
    "import matplotlib.pyplot as plt\n",
    "import matplotlib as mpl"
   ]
  },
  {
   "cell_type": "code",
   "execution_count": 2,
   "id": "04e56140",
   "metadata": {},
   "outputs": [],
   "source": [
    "def tsplot(y, lags=None, figsize=(10, 8), style='bmh'):\n",
    "    if not isinstance(y, pd.Series):\n",
    "        y = pd.Series(y)\n",
    "    with plt.style.context(style):    \n",
    "        fig = plt.figure(figsize=figsize)\n",
    "        layout = (3, 2)\n",
    "        ts_ax = plt.subplot2grid(layout, (0, 0), colspan=2)\n",
    "        acf_ax = plt.subplot2grid(layout, (1, 0))\n",
    "        pacf_ax = plt.subplot2grid(layout, (1, 1))\n",
    "        qq_ax = plt.subplot2grid(layout, (2, 0))\n",
    "        pp_ax = plt.subplot2grid(layout, (2, 1))\n",
    "        \n",
    "        y.plot(ax=ts_ax)\n",
    "        ts_ax.set_title('Time Series Analysis Plots')\n",
    "        smt.graphics.plot_acf(y, lags=lags, ax=acf_ax, alpha=0.05)\n",
    "        smt.graphics.plot_pacf(y, lags=lags, ax=pacf_ax, alpha=0.05, method='ywm')\n",
    "        sm.qqplot(y, line='s', ax=qq_ax)\n",
    "        qq_ax.set_title('QQ Plot')        \n",
    "        scs.probplot(y, sparams=(y.mean(), y.std()), plot=pp_ax)\n",
    "\n",
    "        plt.tight_layout()\n",
    "    return"
   ]
  },
  {
   "cell_type": "code",
   "execution_count": 3,
   "id": "71988938",
   "metadata": {},
   "outputs": [
    {
     "name": "stdout",
     "output_type": "stream",
     "text": [
      "(174487,)\n",
      "ID\n",
      "0         0.000000\n",
      "1        -0.000018\n",
      "2        -0.000009\n",
      "3         0.000009\n",
      "4         0.000009\n",
      "            ...   \n",
      "174482    0.000009\n",
      "174483   -0.000009\n",
      "174484    0.000009\n",
      "174485    0.000000\n",
      "174486    0.000000\n",
      "Name: Ask, Length: 174487, dtype: float64\n",
      "ID\n",
      "0         1.13129\n",
      "1         1.13127\n",
      "2         1.13126\n",
      "3         1.13127\n",
      "4         1.13128\n",
      "           ...   \n",
      "174482    1.13906\n",
      "174483    1.13905\n",
      "174484    1.13906\n",
      "174485    1.13906\n",
      "174486    1.13906\n",
      "Name: Ask, Length: 174487, dtype: float64\n",
      "Data preparing done.\n"
     ]
    }
   ],
   "source": [
    "data = pd.read_csv('EURUSD_2019_01_03.csv', header=0, index_col='ID', parse_dates=['Datetime'])\n",
    "data = data['Middle']\n",
    "print(data.shape)\n",
    "\n",
    "# log returns\n",
    "# np.log(data/data.shift(1)) == np.log(data) - np.log(data.shift(1)) ≈ (data - data.shift(1)) / data.shift(1)\n",
    "lrets = np.log(data/data.shift(1)).fillna(0) # np.log - is the natural logarithm\n",
    "print(lrets)\n",
    "print(data)\n",
    "\n",
    "print(\"Data preparing done.\")"
   ]
  },
  {
   "cell_type": "markdown",
   "id": "ff421107",
   "metadata": {},
   "source": [
    "### Fitting"
   ]
  },
  {
   "cell_type": "markdown",
   "id": "0c9c6aaa",
   "metadata": {},
   "source": [
    "We must determine the order in notebook \"ARIMA_fitting\"."
   ]
  },
  {
   "cell_type": "code",
   "execution_count": 4,
   "id": "0ca03c41",
   "metadata": {},
   "outputs": [
    {
     "name": "stderr",
     "output_type": "stream",
     "text": [
      "C:\\Users\\Dom\\AppData\\Local\\Packages\\PythonSoftwareFoundation.Python.3.9_qbz5n2kfra8p0\\LocalCache\\local-packages\\Python39\\site-packages\\statsmodels\\base\\model.py:604: ConvergenceWarning: Maximum Likelihood optimization failed to converge. Check mle_retvals\n",
      "  warnings.warn(\"Maximum Likelihood optimization failed to \"\n"
     ]
    }
   ],
   "source": [
    "best_mdl = ARIMA(endog=lrets, order=(2,0,0)).fit()\n",
    "best_order = (2,0,0)"
   ]
  },
  {
   "cell_type": "markdown",
   "id": "14cc7279",
   "metadata": {},
   "source": [
    "### Forecasting"
   ]
  },
  {
   "cell_type": "markdown",
   "id": "eff7a689",
   "metadata": {},
   "source": [
    "A table with information how much events is in given time frames. It considers file \"EURUSD_2019_01_03.csv\".\n",
    "Average:<br>\n",
    "1 s ... 2 events<br>\n",
    "10 s ... 20 events<br>\n",
    "1 m ... 121 events<br>\n",
    "5 m ... 605 events<br>\n",
    "10 m ... 1210 events<br>"
   ]
  },
  {
   "cell_type": "code",
   "execution_count": 5,
   "id": "a928a239",
   "metadata": {},
   "outputs": [
    {
     "name": "stdout",
     "output_type": "stream",
     "text": [
      "Ask             mean   mean_se  mean_ci_lower  mean_ci_upper\n",
      "174487  3.615446e-08  0.000013      -0.000026       0.000026\n",
      "174488  3.634559e-08  0.000013      -0.000026       0.000026\n",
      "174489  3.898825e-08  0.000013      -0.000026       0.000026\n",
      "174490  3.901618e-08  0.000013      -0.000026       0.000026\n",
      "174491  3.920942e-08  0.000013      -0.000026       0.000026\n",
      "174492  3.921248e-08  0.000013      -0.000026       0.000026\n",
      "174493  3.922661e-08  0.000013      -0.000026       0.000026\n",
      "174494  3.922691e-08  0.000013      -0.000026       0.000026\n",
      "174495  3.922795e-08  0.000013      -0.000026       0.000026\n",
      "174496  3.922797e-08  0.000013      -0.000026       0.000026\n",
      "174497  3.922805e-08  0.000013      -0.000026       0.000026\n",
      "174498  3.922805e-08  0.000013      -0.000026       0.000026\n",
      "174499  3.922806e-08  0.000013      -0.000026       0.000026\n",
      "174500  3.922806e-08  0.000013      -0.000026       0.000026\n",
      "174501  3.922806e-08  0.000013      -0.000026       0.000026\n",
      "174502  3.922806e-08  0.000013      -0.000026       0.000026\n",
      "174503  3.922806e-08  0.000013      -0.000026       0.000026\n",
      "174504  3.922806e-08  0.000013      -0.000026       0.000026\n",
      "174505  3.922806e-08  0.000013      -0.000026       0.000026\n",
      "174506  3.922806e-08  0.000013      -0.000026       0.000026\n",
      "174507  3.922806e-08  0.000013      -0.000026       0.000026\n",
      "174508  3.922806e-08  0.000013      -0.000026       0.000026\n",
      "174509  3.922806e-08  0.000013      -0.000026       0.000026\n",
      "174510  3.922806e-08  0.000013      -0.000026       0.000026\n",
      "174511  3.922806e-08  0.000013      -0.000026       0.000026\n",
      "174512  3.922806e-08  0.000013      -0.000026       0.000026\n",
      "174513  3.922806e-08  0.000013      -0.000026       0.000026\n",
      "174514  3.922806e-08  0.000013      -0.000026       0.000026\n",
      "174515  3.922806e-08  0.000013      -0.000026       0.000026\n",
      "174516  3.922806e-08  0.000013      -0.000026       0.000026\n",
      "3.6154455209044406e-08\n",
      "                                   forecast  lower_ci_95  upper_ci_95  \\\n",
      "1970-01-01 00:00:00.000174486  3.615446e-08    -0.000026     0.000026   \n",
      "1970-01-02 00:00:00.000174486  3.634559e-08    -0.000026     0.000026   \n",
      "1970-01-03 00:00:00.000174486  3.898825e-08    -0.000026     0.000026   \n",
      "1970-01-04 00:00:00.000174486  3.901618e-08    -0.000026     0.000026   \n",
      "1970-01-05 00:00:00.000174486  3.920942e-08    -0.000026     0.000026   \n",
      "1970-01-06 00:00:00.000174486  3.921248e-08    -0.000026     0.000026   \n",
      "1970-01-07 00:00:00.000174486  3.922661e-08    -0.000026     0.000026   \n",
      "1970-01-08 00:00:00.000174486  3.922691e-08    -0.000026     0.000026   \n",
      "1970-01-09 00:00:00.000174486  3.922795e-08    -0.000026     0.000026   \n",
      "1970-01-10 00:00:00.000174486  3.922797e-08    -0.000026     0.000026   \n",
      "1970-01-11 00:00:00.000174486  3.922805e-08    -0.000026     0.000026   \n",
      "1970-01-12 00:00:00.000174486  3.922805e-08    -0.000026     0.000026   \n",
      "1970-01-13 00:00:00.000174486  3.922806e-08    -0.000026     0.000026   \n",
      "1970-01-14 00:00:00.000174486  3.922806e-08    -0.000026     0.000026   \n",
      "1970-01-15 00:00:00.000174486  3.922806e-08    -0.000026     0.000026   \n",
      "1970-01-16 00:00:00.000174486  3.922806e-08    -0.000026     0.000026   \n",
      "1970-01-17 00:00:00.000174486  3.922806e-08    -0.000026     0.000026   \n",
      "1970-01-18 00:00:00.000174486  3.922806e-08    -0.000026     0.000026   \n",
      "1970-01-19 00:00:00.000174486  3.922806e-08    -0.000026     0.000026   \n",
      "1970-01-20 00:00:00.000174486  3.922806e-08    -0.000026     0.000026   \n",
      "1970-01-21 00:00:00.000174486  3.922806e-08    -0.000026     0.000026   \n",
      "1970-01-22 00:00:00.000174486  3.922806e-08    -0.000026     0.000026   \n",
      "1970-01-23 00:00:00.000174486  3.922806e-08    -0.000026     0.000026   \n",
      "1970-01-24 00:00:00.000174486  3.922806e-08    -0.000026     0.000026   \n",
      "1970-01-25 00:00:00.000174486  3.922806e-08    -0.000026     0.000026   \n",
      "1970-01-26 00:00:00.000174486  3.922806e-08    -0.000026     0.000026   \n",
      "1970-01-27 00:00:00.000174486  3.922806e-08    -0.000026     0.000026   \n",
      "1970-01-28 00:00:00.000174486  3.922806e-08    -0.000026     0.000026   \n",
      "1970-01-29 00:00:00.000174486  3.922806e-08    -0.000026     0.000026   \n",
      "1970-01-30 00:00:00.000174486  3.922806e-08    -0.000026     0.000026   \n",
      "\n",
      "                               lower_ci_99  upper_ci_99  \n",
      "1970-01-01 00:00:00.000174486    -0.000034     0.000034  \n",
      "1970-01-02 00:00:00.000174486    -0.000034     0.000034  \n",
      "1970-01-03 00:00:00.000174486    -0.000034     0.000034  \n",
      "1970-01-04 00:00:00.000174486    -0.000034     0.000034  \n",
      "1970-01-05 00:00:00.000174486    -0.000034     0.000034  \n",
      "1970-01-06 00:00:00.000174486    -0.000034     0.000034  \n",
      "1970-01-07 00:00:00.000174486    -0.000034     0.000034  \n",
      "1970-01-08 00:00:00.000174486    -0.000034     0.000034  \n",
      "1970-01-09 00:00:00.000174486    -0.000034     0.000034  \n",
      "1970-01-10 00:00:00.000174486    -0.000034     0.000034  \n",
      "1970-01-11 00:00:00.000174486    -0.000034     0.000034  \n",
      "1970-01-12 00:00:00.000174486    -0.000034     0.000034  \n",
      "1970-01-13 00:00:00.000174486    -0.000034     0.000034  \n",
      "1970-01-14 00:00:00.000174486    -0.000034     0.000034  \n",
      "1970-01-15 00:00:00.000174486    -0.000034     0.000034  \n",
      "1970-01-16 00:00:00.000174486    -0.000034     0.000034  \n",
      "1970-01-17 00:00:00.000174486    -0.000034     0.000034  \n",
      "1970-01-18 00:00:00.000174486    -0.000034     0.000034  \n",
      "1970-01-19 00:00:00.000174486    -0.000034     0.000034  \n",
      "1970-01-20 00:00:00.000174486    -0.000034     0.000034  \n",
      "1970-01-21 00:00:00.000174486    -0.000034     0.000034  \n",
      "1970-01-22 00:00:00.000174486    -0.000034     0.000034  \n",
      "1970-01-23 00:00:00.000174486    -0.000034     0.000034  \n",
      "1970-01-24 00:00:00.000174486    -0.000034     0.000034  \n",
      "1970-01-25 00:00:00.000174486    -0.000034     0.000034  \n",
      "1970-01-26 00:00:00.000174486    -0.000034     0.000034  \n",
      "1970-01-27 00:00:00.000174486    -0.000034     0.000034  \n",
      "1970-01-28 00:00:00.000174486    -0.000034     0.000034  \n",
      "1970-01-29 00:00:00.000174486    -0.000034     0.000034  \n",
      "1970-01-30 00:00:00.000174486    -0.000034     0.000034  \n",
      "ID\n",
      "0         0.000000\n",
      "1        -0.000018\n",
      "2        -0.000009\n",
      "3         0.000009\n",
      "4         0.000009\n",
      "            ...   \n",
      "174482    0.000009\n",
      "174483   -0.000009\n",
      "174484    0.000009\n",
      "174485    0.000000\n",
      "174486    0.000000\n",
      "Name: Ask, Length: 174487, dtype: float64\n"
     ]
    }
   ],
   "source": [
    "# Create a n_steps event forecast of EURUSD returns with 95%, 99% CI\n",
    "n_steps = 30\n",
    "\n",
    "fc = best_mdl.get_forecast(steps=n_steps)\n",
    "fc_95 = fc.summary_frame(alpha=0.05)\n",
    "fc_99 = fc.summary_frame(alpha=0.01)\n",
    "print(fc_95)\n",
    "print(fc_95.at[174487, 'mean'])\n",
    "\n",
    "#fc_95 = fc.conf_int(alpha=0.05)          # only writes the confidence intervals\n",
    "#print(fc.summary_frame())             # enough if we want only one confidence interval (without date index)\n",
    "\n",
    "idx = pd.date_range(data.index[-1], periods=n_steps, freq='D') # creating index\n",
    "\n",
    "fc_all_data = {'forecast': fc_95['mean'], 'lower_ci_95': fc_95['mean_ci_lower'], 'upper_ci_95': fc_95['mean_ci_upper'],    \n",
    "           'lower_ci_99': fc_99['mean_ci_lower'], 'upper_ci_99': fc_99['mean_ci_upper']}\n",
    "fc_all = pd.DataFrame(fc_all_data)  # if we create index here, DF wants to join fc_all_data to index - in fc_all_data there is no such index\n",
    "fc_all.index = idx\n",
    "\n",
    "print(fc_all)\n",
    "print(lrets)\n",
    "#fc_all.head()\n",
    "\n"
   ]
  }
 ],
 "metadata": {
  "kernelspec": {
   "display_name": "Python 3 (ipykernel)",
   "language": "python",
   "name": "python3"
  },
  "language_info": {
   "codemirror_mode": {
    "name": "ipython",
    "version": 3
   },
   "file_extension": ".py",
   "mimetype": "text/x-python",
   "name": "python",
   "nbconvert_exporter": "python",
   "pygments_lexer": "ipython3",
   "version": "3.9.13"
  }
 },
 "nbformat": 4,
 "nbformat_minor": 5
}
